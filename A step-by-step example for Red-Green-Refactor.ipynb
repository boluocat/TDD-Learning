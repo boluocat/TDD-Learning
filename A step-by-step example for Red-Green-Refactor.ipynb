{
 "cells": [
  {
   "cell_type": "markdown",
   "metadata": {},
   "source": [
    "As you already know test driven development is the process of testing for the outcome before writing the implementation logic. This is a counter intuitive way to develop because the way that coding is typically done is in the following format: \n",
    "\n",
    "**Design -> Implement -> Test **\n",
    "\n",
    "However, with TDD the process is as follows:\n",
    "\n",
    "**Test -> Design -> Implement**\n",
    "\n",
    "This backwards thinking has been promoted by respected agile practitioners because it's very possible to make the wrong assumption when you’re writing the business logic first. \n",
    "\n",
    "Therefore, the first step in test driven development is to write a test that fails. When the test is in the failed state it's called **`RED`**.\n",
    "\n",
    "Next, the programmer must write just enough functionality so that the test now passes. Once the test passes this is called **`GREEN`**.\n",
    "\n",
    "The next stage is to **`REFACTOR`** which is when the code is continuously cleaned up. Duplicated code is removed, variables are given more meaningful names, and complexity is removed while still keeping the functionality of the code the same.\n",
    "\n",
    "Now that we had a brief review of TDD let’s work through an example. Let’s say that we want to create a python script that simulates basic financial applications. \n",
    "\n",
    "The functionality that we want the script to have is as follows:\n",
    "\n",
    "- cash flow: Income - Expenses \n",
    "- Net worth: Assets - debts\n",
    "- Net income: Revenue - expenses \n",
    "- Simple interest: I = p x r x  (p is principal, r is interest rate, and t is how long the money is borrowed in years)\n",
    "- Gains (or losses): (Market price - purchase price) / purchase price \n",
    "\n",
    "Let's take the TDD approach to building this script for these formulas. According to TDD the first step is RED, so we must first get the test to fail. "
   ]
  },
  {
   "cell_type": "code",
   "execution_count": 4,
   "metadata": {},
   "outputs": [
    {
     "name": "stderr",
     "output_type": "stream",
     "text": [
      "test_cash_flow (__main__.TestFinances.test_cash_flow) ... ERROR\n",
      "\n",
      "======================================================================\n",
      "ERROR: test_cash_flow (__main__.TestFinances.test_cash_flow)\n",
      "----------------------------------------------------------------------\n",
      "Traceback (most recent call last):\n",
      "  File \"C:\\Users\\Lenovo\\AppData\\Local\\Temp\\ipykernel_11988\\338481648.py\", line 5, in test_cash_flow\n",
      "    self.assertTrue(self.cf(10000, 5500), 4500)\n",
      "                    ^^^^^^^\n",
      "AttributeError: 'TestFinances' object has no attribute 'cf'\n",
      "\n",
      "----------------------------------------------------------------------\n",
      "Ran 1 test in 0.002s\n",
      "\n",
      "FAILED (errors=1)\n",
      "ERROR\n",
      "\n",
      "======================================================================\n",
      "ERROR: test_cash_flow (__main__.TestFinances.test_cash_flow)\n",
      "----------------------------------------------------------------------\n",
      "Traceback (most recent call last):\n",
      "  File \"C:\\Users\\Lenovo\\AppData\\Local\\Temp\\ipykernel_11988\\338481648.py\", line 5, in test_cash_flow\n",
      "    self.assertTrue(self.cf(10000, 5500), 4500)\n",
      "                    ^^^^^^^\n",
      "AttributeError: 'TestFinances' object has no attribute 'cf'\n",
      "\n",
      "----------------------------------------------------------------------\n",
      "Ran 1 test in 0.002s\n",
      "\n",
      "FAILED (errors=1)\n"
     ]
    }
   ],
   "source": [
    "import unittest\n",
    "\n",
    "class TestFinances(unittest.TestCase):\n",
    "    def test_cash_flow(self):\n",
    "        self.assertTrue(self.cf(10000, 5500), 4500)\n",
    "        \n",
    "if __name__ == '__main__':\n",
    "    unittest.main(argv=['ignored', '-v'], exit=False)"
   ]
  },
  {
   "cell_type": "markdown",
   "metadata": {},
   "source": [
    "When ran, the output states is putting an error.\n",
    "\n",
    "We're in the red and rightfully so. We never created a class that had the cf method which is short for cash flow.\n",
    "\n",
    "Therefore, the next step is to get to GREEN by creating a class with the method cf and writing the absolute minimum code to get it to pass."
   ]
  },
  {
   "cell_type": "code",
   "execution_count": 7,
   "metadata": {},
   "outputs": [],
   "source": [
    "class Finance:\n",
    "    \"\"\"\n",
    "    This is a class which implements several finance formulas using the TDD approach:\n",
    "    \"\"\"\n",
    "    \n",
    "    def cf(self, income, expenses):\n",
    "        if income < 0:\n",
    "            return\n",
    "        return income - expenses"
   ]
  },
  {
   "cell_type": "markdown",
   "metadata": {},
   "source": [
    "Now, let's re-run our test again."
   ]
  },
  {
   "cell_type": "code",
   "execution_count": 8,
   "metadata": {},
   "outputs": [
    {
     "name": "stderr",
     "output_type": "stream",
     "text": [
      "test_cash_flow (__main__.TestFinances.test_cash_flow) ... ok\n",
      "\n",
      "----------------------------------------------------------------------\n",
      "Ran 1 test in 0.002s\n",
      "\n",
      "OK\n",
      "ok\n",
      "\n",
      "----------------------------------------------------------------------\n",
      "Ran 1 test in 0.002s\n",
      "\n",
      "OK\n"
     ]
    }
   ],
   "source": [
    "import unittest\n",
    "\n",
    "class TestFinances(unittest.TestCase, Finance):\n",
    "    def test_cash_flow(self):\n",
    "        self.assertTrue(self.cf(10000, 5500), 4500)\n",
    "        \n",
    "if __name__ == '__main__':\n",
    "    unittest.main(argv=['ignored', '-v'], exit=False)"
   ]
  },
  {
   "cell_type": "markdown",
   "metadata": {},
   "source": [
    "YAY! Our test now passes so we’re in the GREEN. \n",
    "\n",
    "However, we’re roughly 66.6% of the way done because we now must refactor. \t\n",
    "\n",
    "We can go back to finance_formulas.py and rename the method from cf to something more meaningful like cash_flow. "
   ]
  },
  {
   "cell_type": "code",
   "execution_count": 9,
   "metadata": {},
   "outputs": [],
   "source": [
    "class Finance:\n",
    "    \"\"\"\n",
    "    This is a class which implements several finance formulas using the TDD approach:\n",
    "    \"\"\"\n",
    "    \n",
    "    def cash_flow(self, income, expenses):\n",
    "        if income < 0:\n",
    "            return\n",
    "        return income - expenses"
   ]
  },
  {
   "cell_type": "code",
   "execution_count": 10,
   "metadata": {},
   "outputs": [
    {
     "name": "stderr",
     "output_type": "stream",
     "text": [
      "test_cash_flow (__main__.TestFinances.test_cash_flow) ... ok\n",
      "\n",
      "----------------------------------------------------------------------\n",
      "Ran 1 test in 0.002s\n",
      "\n",
      "OK\n",
      "ok\n",
      "\n",
      "----------------------------------------------------------------------\n",
      "Ran 1 test in 0.002s\n",
      "\n",
      "OK\n"
     ]
    }
   ],
   "source": [
    "import unittest\n",
    "\n",
    "class TestFinances(unittest.TestCase, Finance):\n",
    "    def test_cash_flow(self):\n",
    "        self.assertTrue(self.cash_flow(10000, 5500), 4500)\n",
    "        \n",
    "if __name__ == '__main__':\n",
    "    unittest.main(argv=['ignored', '-v'], exit=False)"
   ]
  },
  {
   "cell_type": "markdown",
   "metadata": {},
   "source": []
  }
 ],
 "metadata": {
  "kernelspec": {
   "display_name": "Python311",
   "language": "python",
   "name": "python3"
  },
  "language_info": {
   "codemirror_mode": {
    "name": "ipython",
    "version": 3
   },
   "file_extension": ".py",
   "mimetype": "text/x-python",
   "name": "python",
   "nbconvert_exporter": "python",
   "pygments_lexer": "ipython3",
   "version": "3.11.4"
  }
 },
 "nbformat": 4,
 "nbformat_minor": 2
}
