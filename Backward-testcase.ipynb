{
 "cells": [
  {
   "cell_type": "markdown",
   "metadata": {},
   "source": [
    "MARKETING REQUEST FOR DEVELOPMENT:\n",
    "    We want a be able to display text backward where the letters we put in are reversed. e.g. \"ABC\" becomes \"CBA\"\n",
    "\n",
    "ENGINEERING FUNCTIONAL REQUIREMENTS:\n",
    "1. The identifier \"backwards\" must point to a function.\n",
    "2. The function must accept a string as input.\n",
    "3. The output value from the function must be the input reversed.\n",
    "\n",
    "THE TDD PROCESS (Repeat for each functional requirement):\n",
    "- Red       =   Make a failing test; see it FAIL.\n",
    "- Green     =   Do the minimum required to make it pass; see it PASS.\n",
    "- Refactor  =   Make it work well; see it still passes."
   ]
  },
  {
   "cell_type": "markdown",
   "metadata": {},
   "source": [
    "Test Steps:\n",
    "1. If it is a function   ---- RED\n",
    "2. If the return value is valid   ---- GREEN\n",
    "3. Refactoring code\n",
    "\n"
   ]
  },
  {
   "cell_type": "code",
   "execution_count": 29,
   "metadata": {},
   "outputs": [],
   "source": [
    "# v1\n",
    "def backwards(): pass"
   ]
  },
  {
   "cell_type": "code",
   "execution_count": 13,
   "metadata": {},
   "outputs": [],
   "source": [
    "# V2\n",
    "# def backwards(text): return True "
   ]
  },
  {
   "cell_type": "code",
   "execution_count": 10,
   "metadata": {},
   "outputs": [],
   "source": [
    "# V3\n",
    "# def backwards(text): return text[::-1]"
   ]
  },
  {
   "cell_type": "code",
   "execution_count": 25,
   "metadata": {},
   "outputs": [],
   "source": [
    "# v4\n",
    "# def backwards(text): \n",
    "#     Letters = list(text)\n",
    "#     Letters.reverse()  # list\n",
    "#     return \"\".join(Letters)"
   ]
  },
  {
   "cell_type": "code",
   "execution_count": 30,
   "metadata": {},
   "outputs": [],
   "source": [
    "# define the tests\n",
    "suite: dict = {\n",
    "    \"1. Is Function\": lambda: callable(backwards),  # check if the function is defined\n",
    "    \"2. Accepts String\": lambda: backwards(\"ABC\"),  # check if the function accepts a string\n",
    "    \"3. Is Reversed\": lambda: \"ZYX\" == backwards(\"XYZ\")  # check if the string is reversed\n",
    "}"
   ]
  },
  {
   "cell_type": "markdown",
   "metadata": {},
   "source": [
    "`u\"\\u001b[31m\"` and `u\"\\u001b[32m\"` privode a colored text. These escape codes can be used to print colored text in the **terminal**.\n",
    "\n",
    "1. `u\"\\u001b[31m\"` is the ANSI escape code for red text.\n",
    "2. `u\"\\u001b[32m\"` is the ANSI escape code for green text.\n",
    "3. `u\"\\u001b[0m\"` is the ANSI escape code to reset the text color to the default."
   ]
  },
  {
   "cell_type": "code",
   "execution_count": 31,
   "metadata": {},
   "outputs": [
    {
     "name": "stdout",
     "output_type": "stream",
     "text": [
      "\u001b[32mPASS-GREEN:   : 1. Is Function\n",
      "\u001b[31mFAIL-RED:    2. Accepts String MESSAGE: backwards() takes 0 positional arguments but 1 was given\n",
      "\u001b[31mFAIL-RED:    3. Is Reversed MESSAGE: backwards() takes 0 positional arguments but 1 was given\n"
     ]
    }
   ],
   "source": [
    "red, green = (u\"\\u001b[31mFAIL-RED:    \", u\"\\u001b[32mPASS-GREEN:  \")\n",
    "\n",
    "# run the tests\n",
    "for name, test in suite.items():\n",
    "    try:\n",
    "        # if the test passes, print GREEN, else print RED\n",
    "        print(f\"{green if test() else red} : {name}\")\n",
    "    except Exception as e:\n",
    "        # if the test errors, print the RED and error\n",
    "        print(f\"{red}{name} MESSAGE: {e}\")"
   ]
  },
  {
   "cell_type": "code",
   "execution_count": null,
   "metadata": {},
   "outputs": [],
   "source": []
  }
 ],
 "metadata": {
  "kernelspec": {
   "display_name": "Python311",
   "language": "python",
   "name": "python3"
  },
  "language_info": {
   "codemirror_mode": {
    "name": "ipython",
    "version": 3
   },
   "file_extension": ".py",
   "mimetype": "text/x-python",
   "name": "python",
   "nbconvert_exporter": "python",
   "pygments_lexer": "ipython3",
   "version": "3.11.4"
  }
 },
 "nbformat": 4,
 "nbformat_minor": 2
}
