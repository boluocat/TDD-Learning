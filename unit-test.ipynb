{
 "cells": [
  {
   "cell_type": "markdown",
   "metadata": {},
   "source": [
    "You can use `unittest` module to run unit test"
   ]
  },
  {
   "cell_type": "code",
   "execution_count": null,
   "metadata": {},
   "outputs": [],
   "source": [
    "from unittest import TestCase\n",
    "\n",
    "class TestSubroutine(TestCase):\n",
    "    \"\"\"Verifies subroutine behavior\"\"\"\n",
    "    \n",
    "    def test_subroutine_with_no_arguments(self):\n",
    "        args = []\n",
    "        result = my_subroutine(*args)\n",
    "        # assertEqual is a method of TestCase, test that first argument is equal to second. If not, raise an error.\n",
    "        self.assertEqual(result, 0)"
   ]
  },
  {
   "cell_type": "code",
   "execution_count": 3,
   "metadata": {},
   "outputs": [
    {
     "name": "stdout",
     "output_type": "stream",
     "text": [
      "Test passed\n"
     ]
    },
    {
     "ename": "AssertionError",
     "evalue": "0.9999999999999998 != 1 : Should still provide integer output despite floating point input",
     "output_type": "error",
     "traceback": [
      "\u001b[1;31m---------------------------------------------------------------------------\u001b[0m",
      "\u001b[1;31mAssertionError\u001b[0m                            Traceback (most recent call last)",
      "Cell \u001b[1;32mIn[3], line 25\u001b[0m\n\u001b[0;32m     23\u001b[0m TestAdder()\u001b[38;5;241m.\u001b[39mtest_adds_three_and_five_correctly()\n\u001b[0;32m     24\u001b[0m \u001b[38;5;66;03m# TestAdder().test_adds_two_and_one_correctly()\u001b[39;00m\n\u001b[1;32m---> 25\u001b[0m \u001b[43mTestAdder\u001b[49m\u001b[43m(\u001b[49m\u001b[43m)\u001b[49m\u001b[38;5;241;43m.\u001b[39;49m\u001b[43mtest_adds_floating_point_numbers_correctly\u001b[49m\u001b[43m(\u001b[49m\u001b[43m)\u001b[49m\n",
      "Cell \u001b[1;32mIn[3], line 21\u001b[0m, in \u001b[0;36mTestAdder.test_adds_floating_point_numbers_correctly\u001b[1;34m(self)\u001b[0m\n\u001b[0;32m     19\u001b[0m result2 \u001b[38;5;241m=\u001b[39m adder(result1, \u001b[38;5;241m-\u001b[39m\u001b[38;5;241m1\u001b[39m)\n\u001b[0;32m     20\u001b[0m result3 \u001b[38;5;241m=\u001b[39m result2\u001b[38;5;241m*\u001b[39m\u001b[38;5;241m3\u001b[39m\n\u001b[1;32m---> 21\u001b[0m \u001b[38;5;28;43mself\u001b[39;49m\u001b[38;5;241;43m.\u001b[39;49m\u001b[43massertEqual\u001b[49m\u001b[43m(\u001b[49m\u001b[43mresult3\u001b[49m\u001b[43m,\u001b[49m\u001b[43m \u001b[49m\u001b[38;5;241;43m1\u001b[39;49m\u001b[43m,\u001b[49m\u001b[43m \u001b[49m\u001b[38;5;124;43m\"\u001b[39;49m\u001b[38;5;124;43mShould still provide integer output despite floating point input\u001b[39;49m\u001b[38;5;124;43m\"\u001b[39;49m\u001b[43m)\u001b[49m\n",
      "File \u001b[1;32mg:\\Python311\\Lib\\unittest\\case.py:873\u001b[0m, in \u001b[0;36mTestCase.assertEqual\u001b[1;34m(self, first, second, msg)\u001b[0m\n\u001b[0;32m    869\u001b[0m \u001b[38;5;250m\u001b[39m\u001b[38;5;124;03m\"\"\"Fail if the two objects are unequal as determined by the '=='\u001b[39;00m\n\u001b[0;32m    870\u001b[0m \u001b[38;5;124;03m   operator.\u001b[39;00m\n\u001b[0;32m    871\u001b[0m \u001b[38;5;124;03m\"\"\"\u001b[39;00m\n\u001b[0;32m    872\u001b[0m assertion_func \u001b[38;5;241m=\u001b[39m \u001b[38;5;28mself\u001b[39m\u001b[38;5;241m.\u001b[39m_getAssertEqualityFunc(first, second)\n\u001b[1;32m--> 873\u001b[0m \u001b[43massertion_func\u001b[49m\u001b[43m(\u001b[49m\u001b[43mfirst\u001b[49m\u001b[43m,\u001b[49m\u001b[43m \u001b[49m\u001b[43msecond\u001b[49m\u001b[43m,\u001b[49m\u001b[43m \u001b[49m\u001b[43mmsg\u001b[49m\u001b[38;5;241;43m=\u001b[39;49m\u001b[43mmsg\u001b[49m\u001b[43m)\u001b[49m\n",
      "File \u001b[1;32mg:\\Python311\\Lib\\unittest\\case.py:866\u001b[0m, in \u001b[0;36mTestCase._baseAssertEqual\u001b[1;34m(self, first, second, msg)\u001b[0m\n\u001b[0;32m    864\u001b[0m standardMsg \u001b[38;5;241m=\u001b[39m \u001b[38;5;124m'\u001b[39m\u001b[38;5;132;01m%s\u001b[39;00m\u001b[38;5;124m != \u001b[39m\u001b[38;5;132;01m%s\u001b[39;00m\u001b[38;5;124m'\u001b[39m \u001b[38;5;241m%\u001b[39m _common_shorten_repr(first, second)\n\u001b[0;32m    865\u001b[0m msg \u001b[38;5;241m=\u001b[39m \u001b[38;5;28mself\u001b[39m\u001b[38;5;241m.\u001b[39m_formatMessage(msg, standardMsg)\n\u001b[1;32m--> 866\u001b[0m \u001b[38;5;28;01mraise\u001b[39;00m \u001b[38;5;28mself\u001b[39m\u001b[38;5;241m.\u001b[39mfailureException(msg)\n",
      "\u001b[1;31mAssertionError\u001b[0m: 0.9999999999999998 != 1 : Should still provide integer output despite floating point input"
     ]
    }
   ],
   "source": [
    "from unittest import TestCase\n",
    "\n",
    "def adder(x,y):\n",
    "    return x + y\n",
    "\n",
    "class TestAdder(TestCase):\n",
    "    \n",
    "    def test_adds_three_and_five_correctly(self):\n",
    "        self.assertEqual(adder(3,5), 8)\n",
    "        print(\"Test passed\")\n",
    "        \n",
    "        \n",
    "    def test_adds_two_and_one_correctly(self):\n",
    "        self.assertEqual(adder(2,1), 4, \"Adding 2 and 1 should produce 3\")\n",
    "        print(\"Test passed\")\n",
    "        \n",
    "    def test_adds_floating_point_numbers_correctly(self):\n",
    "        result1 = adder(1, 1/3)\n",
    "        result2 = adder(result1, -1)\n",
    "        result3 = result2*3\n",
    "        self.assertEqual(result3, 1, \"Should still provide integer output despite floating point input\")\n",
    "\n",
    "TestAdder().test_adds_three_and_five_correctly()\n",
    "# TestAdder().test_adds_two_and_one_correctly()\n",
    "TestAdder().test_adds_floating_point_numbers_correctly()"
   ]
  },
  {
   "cell_type": "markdown",
   "metadata": {},
   "source": []
  },
  {
   "cell_type": "markdown",
   "metadata": {},
   "source": [
    "# Unittest Best Practices\n",
    "- One assertion statement per test method\n",
    "- Detailed class name describing system under test\n",
    "- Detailed method name describing specific outcome being tested\n",
    "\n",
    "If using `python -m unittest` to execute test case in the folder. You need to name testcase file as `test_` "
   ]
  },
  {
   "cell_type": "markdown",
   "metadata": {},
   "source": [
    "#  Assertion methods\n",
    "\n",
    "| Method | Checks that | New in |\n",
    "|--------|------------ |--------|\n",
    "|`assertEqual(a,b)`|`a==b`| |\n",
    "|`assertNotEqual(a,b)`|`a!=b`| |\n",
    "|`assertTrue(x)`|`bool(x) is True`| |\n",
    "|`assertFalse(x)`|`bool(x) is False`| |\n",
    "|`assertIs(a,b)`|`a is b`|3.1 |\n",
    "|`assertIsNot(a,b)`|`a is not b`|3.1 |\n",
    "|`assertIsNone(x)`|`x is None`|3.1 |\n",
    "|`assertIsNotNone(x)`|`x is not None`|3.1 |\n",
    "|`assertIn(a,b)`|`a in b`|3.1 |\n",
    "|`assertIsNotIn(a,b)`|`a not in b`|3.1 |\n",
    "|`assertIsInstance(a,b)`|`isinstance(a,b)`|3.2 |\n",
    "|`assertNotIsInstance(a,b)`|`not isinstance(a,b)`|3.2 |"
   ]
  },
  {
   "cell_type": "markdown",
   "metadata": {},
   "source": [
    "# `asserRaises(exception, *, msg=None)`\n",
    "\n",
    "Test that an exception is raised when callable is called with any positional or keyword arguments that are also passed to `assertRaises()`. The test passes if `exception` is raised, is an error if another exception is raised, or fails if no exception is raised. To catch any of a group of exception, a tuple containing the exception classes may be passed as exception."
   ]
  },
  {
   "cell_type": "code",
   "execution_count": 7,
   "metadata": {},
   "outputs": [],
   "source": [
    "from unittest import TestCase\n",
    "def adder(x,y):\n",
    "    return x + y\n",
    "\n",
    "class TestAdder(TestCase):\n",
    "    \n",
    "    def test_adds_three_and_five_correctly(self):\n",
    "        self.assertEqual(adder(3,5), 8, \"Adding 3 and 5 should produce 8\")\n",
    "        print(\"Test passed\")\n",
    "        \n",
    "    def test_adds_integer_and_string_raises_exception(self):\n",
    "        try:\n",
    "            result = adder(3, \"12\")\n",
    "        except Exception as e:\n",
    "            self.assertIsInstance(e, TypeError)\n",
    "        else:\n",
    "            self.fail(\"Did not raise Exception\")\n",
    "            \n",
    "TestAdder().test_adds_integer_and_string_raises_exception()"
   ]
  },
  {
   "cell_type": "code",
   "execution_count": 17,
   "metadata": {},
   "outputs": [
    {
     "ename": "TypeError",
     "evalue": "TestCase.assertIsInstance() takes from 3 to 4 positional arguments but 5 were given",
     "output_type": "error",
     "traceback": [
      "\u001b[1;31m---------------------------------------------------------------------------\u001b[0m",
      "\u001b[1;31mTypeError\u001b[0m                                 Traceback (most recent call last)",
      "Cell \u001b[1;32mIn[17], line 17\u001b[0m\n\u001b[0;32m     13\u001b[0m         \u001b[38;5;28mself\u001b[39m\u001b[38;5;241m.\u001b[39massertIsInstance(\u001b[38;5;167;01mTypeError\u001b[39;00m, adder, \u001b[38;5;241m3\u001b[39m, \u001b[38;5;124m\"\u001b[39m\u001b[38;5;124m12\u001b[39m\u001b[38;5;124m\"\u001b[39m)\n\u001b[0;32m     16\u001b[0m TestAdder()\u001b[38;5;241m.\u001b[39mtest_adds_one_and_two_equals_three()\n\u001b[1;32m---> 17\u001b[0m \u001b[43mTestAdder\u001b[49m\u001b[43m(\u001b[49m\u001b[43m)\u001b[49m\u001b[38;5;241;43m.\u001b[39;49m\u001b[43mtest_adds_integer_and_string_raises_exception\u001b[49m\u001b[43m(\u001b[49m\u001b[43m)\u001b[49m\n",
      "Cell \u001b[1;32mIn[17], line 13\u001b[0m, in \u001b[0;36mTestAdder.test_adds_integer_and_string_raises_exception\u001b[1;34m(self)\u001b[0m\n\u001b[0;32m     12\u001b[0m \u001b[38;5;28;01mdef\u001b[39;00m \u001b[38;5;21mtest_adds_integer_and_string_raises_exception\u001b[39m(\u001b[38;5;28mself\u001b[39m):\n\u001b[1;32m---> 13\u001b[0m     \u001b[38;5;28;43mself\u001b[39;49m\u001b[38;5;241;43m.\u001b[39;49m\u001b[43massertIsInstance\u001b[49m\u001b[43m(\u001b[49m\u001b[38;5;167;43;01mTypeError\u001b[39;49;00m\u001b[43m,\u001b[49m\u001b[43m \u001b[49m\u001b[43madder\u001b[49m\u001b[43m,\u001b[49m\u001b[43m \u001b[49m\u001b[38;5;241;43m3\u001b[39;49m\u001b[43m,\u001b[49m\u001b[43m \u001b[49m\u001b[38;5;124;43m\"\u001b[39;49m\u001b[38;5;124;43m12\u001b[39;49m\u001b[38;5;124;43m\"\u001b[39;49m\u001b[43m)\u001b[49m\n",
      "\u001b[1;31mTypeError\u001b[0m: TestCase.assertIsInstance() takes from 3 to 4 positional arguments but 5 were given"
     ]
    }
   ],
   "source": [
    "from unittest import TestCase\n",
    "\n",
    "def adder(x,y):\n",
    "    return x + y\n",
    "\n",
    "\n",
    "class TestAdder(TestCase):\n",
    "    \n",
    "    def test_adds_one_and_two_equals_three(self):\n",
    "        self.assertEqual(adder(1,2), 3, \"One plus two should equal three\")\n",
    "    \n",
    "    def test_adds_integer_and_string_raises_exception(self):\n",
    "        self.assertIsInstance(TypeError, adder, 3, \"12\")\n",
    "        \n",
    "        \n",
    "TestAdder().test_adds_one_and_two_equals_three()\n",
    "TestAdder().test_adds_integer_and_string_raises_exception()"
   ]
  },
  {
   "cell_type": "markdown",
   "metadata": {},
   "source": [
    "# Unittest module resources\n",
    "\n",
    "https://docs.python.org/3/library/unittest.html\n",
    "\n",
    "- If you want to directly run testcases in a `.py` script, you can use:\n",
    "  ```python\n",
    "  if __name__ == '__main__':\n",
    "    unittest.main()\n",
    "    ```\n",
    "- If you want to run testcases with command-line interface\n",
    "  ```python\n",
    "  # You can test with more detail by passing in the -v flag\n",
    "  python -m unittest -v test_module\n",
    "  # Or executed without arguments\n",
    "  python -m unittest\n",
    "  ```\n",
    "  There are some command-line options:\n",
    "  - `-b`, `--buffer`: The standard output and standard error streams are buffered during the test run. Output during a passing test is discarded. Output is echoed normally on test fail or error and is added to the failure messages.\n",
    "  - `-c`, `--catch`: during the test run waits for the current test to end and then reports all the results so far.\n",
    "  - `-f`,`--failfast`: Stop the test run on the first error or failure.\n",
    "  - `-k`: Only run test methods and classes that match the pattern or substring. This option may be used multiple times, in which case all cases that match ant of the given patterns are included. For Example, `-k foo` matches `foo_tests.SomeTest.test_something`, `bar_tests.SomeTest.test_foo`, but not `bar_tests.FooTest.test_something`.\n",
    "  - `--locals`: Show local variable in tracebacks.\n",
    "  - `--durations`: Show the N slowest test cases.\n"
   ]
  },
  {
   "cell_type": "code",
   "execution_count": null,
   "metadata": {},
   "outputs": [],
   "source": []
  },
  {
   "cell_type": "code",
   "execution_count": null,
   "metadata": {},
   "outputs": [],
   "source": []
  }
 ],
 "metadata": {
  "kernelspec": {
   "display_name": "Python311",
   "language": "python",
   "name": "python3"
  },
  "language_info": {
   "codemirror_mode": {
    "name": "ipython",
    "version": 3
   },
   "file_extension": ".py",
   "mimetype": "text/x-python",
   "name": "python",
   "nbconvert_exporter": "python",
   "pygments_lexer": "ipython3",
   "version": "3.11.4"
  }
 },
 "nbformat": 4,
 "nbformat_minor": 2
}
